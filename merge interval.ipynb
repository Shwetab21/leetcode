{
 "cells": [
  {
   "cell_type": "code",
   "execution_count": null,
   "metadata": {},
   "outputs": [],
   "source": [
    "\"\"\"Given an array of intervals where intervals[i] = [starti, endi], merge all overlapping intervals, \n",
    "and return an array of the non-overlapping intervals that cover all the intervals in the input.\"\"\""
   ]
  },
  {
   "cell_type": "code",
   "execution_count": 11,
   "metadata": {},
   "outputs": [
    {
     "data": {
      "text/plain": [
       "[[1, 6], [8, 10], [15, 18]]"
      ]
     },
     "execution_count": 11,
     "metadata": {},
     "output_type": "execute_result"
    }
   ],
   "source": [
    "class Solution(object):\n",
    "    def merge(self, intervals):\n",
    "        s =[]\n",
    "        intervals = sorted(intervals)\n",
    "        start = intervals[0][0]\n",
    "        end = intervals[0][1]\n",
    "        for i in intervals:\n",
    "            if i[0] > end:\n",
    "                s.append([start,end])\n",
    "                start,end = i[0], i[1]\n",
    "            else:\n",
    "                 end = max(end,i[1])\n",
    "        s.append([start,end])\n",
    "        return s\n",
    "    \n",
    "obj = Solution()\n",
    "obj.merge([[1,3],[2,6],[8,10],[15,18]])"
   ]
  },
  {
   "cell_type": "code",
   "execution_count": null,
   "metadata": {},
   "outputs": [],
   "source": []
  }
 ],
 "metadata": {
  "kernelspec": {
   "display_name": "Python 3",
   "language": "python",
   "name": "python3"
  },
  "language_info": {
   "codemirror_mode": {
    "name": "ipython",
    "version": 3
   },
   "file_extension": ".py",
   "mimetype": "text/x-python",
   "name": "python",
   "nbconvert_exporter": "python",
   "pygments_lexer": "ipython3",
   "version": "3.8.5"
  }
 },
 "nbformat": 4,
 "nbformat_minor": 4
}
