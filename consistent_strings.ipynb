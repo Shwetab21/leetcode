{
 "cells": [
  {
   "cell_type": "code",
   "execution_count": 35,
   "metadata": {},
   "outputs": [],
   "source": [
    "class Solution:\n",
    "    def countConsistentStrings(self, allowed, words):\n",
    "        allowed = set(allowed)\n",
    "        count = 0\n",
    "        \n",
    "        for word in words:\n",
    "            for letter in word:\n",
    "                if letter not in allowed:\n",
    "                    count += 1\n",
    "                    break\n",
    "        print(count)\n",
    "        return len(words) - count"
   ]
  },
  {
   "cell_type": "code",
   "execution_count": 36,
   "metadata": {},
   "outputs": [
    {
     "name": "stdout",
     "output_type": "stream",
     "text": [
      "0\n",
      "7\n"
     ]
    }
   ],
   "source": [
    "obj = Solution()\n",
    "print(obj.countConsistentStrings('abc',[\"a\",\"b\",\"c\",\"ab\",\"ac\",\"bc\",\"abc\"]))"
   ]
  },
  {
   "cell_type": "code",
   "execution_count": 34,
   "metadata": {},
   "outputs": [
    {
     "data": {
      "text/plain": [
       "7"
      ]
     },
     "execution_count": 34,
     "metadata": {},
     "output_type": "execute_result"
    }
   ],
   "source": [
    "len([\"a\",\"b\",\"c\",\"ab\",\"ac\",\"bc\",\"abc\"])"
   ]
  },
  {
   "cell_type": "code",
   "execution_count": 37,
   "metadata": {},
   "outputs": [
    {
     "name": "stdout",
     "output_type": "stream",
     "text": [
      "3\n",
      "8\n"
     ]
    }
   ],
   "source": [
    "obj1 = Solution()\n",
    "print(obj1.countConsistentStrings('fstqyienx',[\"n\",\"eeitfns\",\"eqqqsfs\",\"i\",\"feniqis\",\"lhoa\",\"yqyitei\",\"sqtn\",\"kug\",\"z\",\"neqqis\"]))"
   ]
  },
  {
   "cell_type": "code",
   "execution_count": null,
   "metadata": {},
   "outputs": [],
   "source": []
  }
 ],
 "metadata": {
  "kernelspec": {
   "display_name": "Python 3",
   "language": "python",
   "name": "python3"
  },
  "language_info": {
   "codemirror_mode": {
    "name": "ipython",
    "version": 3
   },
   "file_extension": ".py",
   "mimetype": "text/x-python",
   "name": "python",
   "nbconvert_exporter": "python",
   "pygments_lexer": "ipython3",
   "version": "3.8.5"
  }
 },
 "nbformat": 4,
 "nbformat_minor": 4
}
