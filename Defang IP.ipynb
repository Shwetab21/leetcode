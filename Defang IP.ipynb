{
 "cells": [
  {
   "cell_type": "code",
   "execution_count": null,
   "metadata": {},
   "outputs": [],
   "source": [
    "\"\"\"\"\n",
    "Given a valid (IPv4) IP address, return a defanged version of that IP address.\n",
    "\n",
    "A defanged IP address replaces every period \".\" with \"[.]\". \"\"\n"
   ]
  },
  {
   "cell_type": "code",
   "execution_count": 1,
   "metadata": {},
   "outputs": [
    {
     "name": "stdout",
     "output_type": "stream",
     "text": [
      "255[.]100[.]50[.]0\n"
     ]
    }
   ],
   "source": [
    "class Solution(object):\n",
    "    def defangIPaddr(self, address):\n",
    "        \"\"\"\n",
    "        :type address: str\n",
    "        :rtype: str\n",
    "        \"\"\"\n",
    "        defang_ip = address.replace('.','[.]')\n",
    "        return defang_ip\n",
    "    \n",
    "obj = Solution()\n",
    "print(obj.defangIPaddr(\"255.100.50.0\"))\n",
    "        "
   ]
  },
  {
   "cell_type": "code",
   "execution_count": null,
   "metadata": {},
   "outputs": [],
   "source": []
  }
 ],
 "metadata": {
  "kernelspec": {
   "display_name": "Python 3",
   "language": "python",
   "name": "python3"
  },
  "language_info": {
   "codemirror_mode": {
    "name": "ipython",
    "version": 3
   },
   "file_extension": ".py",
   "mimetype": "text/x-python",
   "name": "python",
   "nbconvert_exporter": "python",
   "pygments_lexer": "ipython3",
   "version": "3.8.5"
  }
 },
 "nbformat": 4,
 "nbformat_minor": 4
}
